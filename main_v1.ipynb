{
 "cells": [
  {
   "cell_type": "code",
   "execution_count": 1,
   "metadata": {},
   "outputs": [],
   "source": [
    "# imports\n",
    "\n",
    "import json\n",
    "import numpy as np\n",
    "import pandas as pd"
   ]
  },
  {
   "cell_type": "code",
   "execution_count": 2,
   "metadata": {},
   "outputs": [],
   "source": [
    "# ETL\n",
    "\n",
    "raw_train = pd.read_csv(\"./data/raw_data/train.csv\")\n",
    "raw_submission = pd.read_csv(\"./data/raw_data/sample_submission.csv\")\n",
    "\n",
    "with open(\"./data/assets/column_dict.json\", \"r\") as f:\n",
    "    column_dict = json.load(f)"
   ]
  },
  {
   "cell_type": "code",
   "execution_count": 3,
   "metadata": {},
   "outputs": [],
   "source": [
    "datasets = raw_train.copy()\n",
    "submission = raw_submission.copy()"
   ]
  },
  {
   "cell_type": "code",
   "execution_count": 4,
   "metadata": {},
   "outputs": [],
   "source": [
    "# Preprocessing\n",
    "\n",
    "class GeneralPPS:\n",
    "    @staticmethod\n",
    "    def map_columns(df, column_dict):\n",
    "        df.columns = [column_dict[col] for col in df.columns]\n",
    "        return df\n",
    "\n",
    "    @staticmethod\n",
    "    def drop_zero(df):\n",
    "        columns = [\"volume\", \"open\", \"low\", \"high\", \"close\"]\n",
    "        for column in columns:\n",
    "            df = df[df[column] != 0]\n",
    "        return df\n",
    "\n",
    "    @staticmethod\n",
    "    class DROP_LACK_DATA:\n",
    "        def __init__(self, df, percentage) -> None:\n",
    "            self.df = df\n",
    "            self.percentage = percentage\n",
    "\n",
    "        def get_ticker_count_series(self):\n",
    "            df = self.df\n",
    "            ticker_count_series = df.groupby(\"ticker\").count()[\"date\"]\n",
    "            return ticker_count_series\n",
    "\n",
    "        def get_available_tickers(self, ticker_count_series):\n",
    "            percentage = self.percentage\n",
    "\n",
    "            available_tickers = ticker_count_series[\n",
    "                ticker_count_series > ticker_count_series.max() * percentage\n",
    "            ].index\n",
    "            return available_tickers\n",
    "\n",
    "        def filter_available_tickers(self, available_tickers):\n",
    "            df = self.df\n",
    "            df = df[df[\"ticker\"].isin(available_tickers)]\n",
    "            return df\n",
    "\n",
    "        def __call__(self):\n",
    "            ticker_count_series = self.get_ticker_count_series()\n",
    "            available_tickers = self.get_available_tickers(ticker_count_series)\n",
    "            df = self.filter_available_tickers(available_tickers)\n",
    "            return df"
   ]
  },
  {
   "cell_type": "code",
   "execution_count": 5,
   "metadata": {},
   "outputs": [],
   "source": [
    "general_pps = GeneralPPS()\n",
    "\n",
    "datasets = general_pps.map_columns(datasets, column_dict)\n",
    "datasets = general_pps.drop_zero(datasets)\n",
    "datasets = general_pps.DROP_LACK_DATA(datasets, 0.8)()"
   ]
  },
  {
   "cell_type": "code",
   "execution_count": 6,
   "metadata": {},
   "outputs": [],
   "source": [
    "raw_datasets = datasets.copy()"
   ]
  },
  {
   "cell_type": "code",
   "execution_count": 7,
   "metadata": {},
   "outputs": [],
   "source": [
    "tickers = sorted(set(datasets[\"ticker\"]))\n",
    "ticker = tickers[0]\n",
    "\n",
    "_dataset = datasets[datasets[\"ticker\"] == ticker]"
   ]
  },
  {
   "cell_type": "code",
   "execution_count": 8,
   "metadata": {},
   "outputs": [],
   "source": [
    "# Model\n",
    "\n",
    "## Linear Coef model"
   ]
  },
  {
   "cell_type": "code",
   "execution_count": 9,
   "metadata": {},
   "outputs": [],
   "source": [
    "from sklearn.linear_model import LinearRegression\n",
    "\n",
    "def sort_dataset_by_date(dataset, column=\"date\"):\n",
    "    sorted_dataset = dataset.sort_values(column)\n",
    "    return sorted_dataset\n",
    "\n",
    "\n",
    "def append_price_diff(dataset, open_col=\"open\", close_col=\"close\"):\n",
    "    dataset[\"price_diff\"] = (dataset[open_col] - dataset[close_col]) / dataset[open_col]\n",
    "    return dataset\n",
    "\n",
    "\n",
    "def get_array_list(dataset, column):\n",
    "    _arraylist = dataset[column].values\n",
    "    return _arraylist\n",
    "\n",
    "\n",
    "def get_linear_coef(arraylist, linear_regression):\n",
    "    x = np.arange(1, len(arraylist) + 1).reshape(-1, 1)\n",
    "    y = np.array(arraylist).reshape(-1, 1)\n",
    "    linear_regression.fit(x, y)\n",
    "    coef_ = linear_regression.coef_\n",
    "    return coef_"
   ]
  },
  {
   "cell_type": "code",
   "execution_count": 10,
   "metadata": {},
   "outputs": [],
   "source": [
    "_dataset = sort_dataset_by_date(_dataset, \"date\")\n",
    "_dataset = append_price_diff(_dataset, \"open\", \"close\")\n",
    "_price_diff_arraylist = get_array_list(_dataset, \"price_diff\")"
   ]
  },
  {
   "cell_type": "code",
   "execution_count": 16,
   "metadata": {},
   "outputs": [],
   "source": [
    "CFG = {\n",
    "    \"dataset_window\": 100,\n",
    "    \"input_window\": 15,\n",
    "    \"output_window\": 10,\n",
    "}\n",
    "\n",
    "# d_window = CFG[\"dataset_window\"]\n",
    "# i_window = CFG[\"input_window\"]\n",
    "# o_window = CFG[\"output_window\"]"
   ]
  },
  {
   "cell_type": "code",
   "execution_count": 17,
   "metadata": {},
   "outputs": [],
   "source": [
    "import numpy as np\n",
    "\n",
    "\n",
    "def get_x_y(arraylist, CFG):\n",
    "    i_window = CFG[\"input_window\"]\n",
    "    o_window = CFG[\"output_window\"]\n",
    "\n",
    "    _x_dataset = list()\n",
    "    _y_dataset = list()\n",
    "\n",
    "    for idx in range(len(arraylist) - i_window - o_window + 1):\n",
    "        _x = arraylist[idx : idx + i_window]\n",
    "        _y = arraylist[idx + i_window : idx + i_window + o_window]\n",
    "\n",
    "        _x_dataset.append(_x)\n",
    "        _y_dataset.append(_y)\n",
    "\n",
    "    _x_dataset = np.array(_x_dataset)\n",
    "    _y_dataset = np.array(_y_dataset)\n",
    "    return _x_dataset, _y_dataset"
   ]
  },
  {
   "cell_type": "code",
   "execution_count": 18,
   "metadata": {},
   "outputs": [],
   "source": [
    "_price_diff_arraylist_dataset = _price_diff_arraylist[:d_window]"
   ]
  },
  {
   "cell_type": "code",
   "execution_count": 24,
   "metadata": {},
   "outputs": [],
   "source": [
    "x_dataset, y_dataset = get_x_y(_price_diff_arraylist_dataset, CFG)\n",
    "y_dataset = y_dataset.sum(axis=1)\n",
    "x_train, x_test, y_train, y_test = (\n",
    "    x_dataset[:-1],\n",
    "    x_dataset[-1],\n",
    "    y_dataset[:-1],\n",
    "    y_dataset[-1],\n",
    ")"
   ]
  },
  {
   "cell_type": "code",
   "execution_count": 31,
   "metadata": {},
   "outputs": [],
   "source": [
    "from sklearn.linear_model import LinearRegression\n",
    "\n",
    "linear_regression = LinearRegression()\n",
    "linear_regression.fit(x_train,y_train)\n",
    "y_pred = linear_regression.predict(x_test.reshape(1,-1))"
   ]
  },
  {
   "cell_type": "code",
   "execution_count": 33,
   "metadata": {},
   "outputs": [],
   "source": [
    "result_list = list()\n",
    "for dataset_idx in range(len(_price_diff_arraylist) - CFG[\"dataset_window\"] + 1):\n",
    "    _price_diff_arraylist_dataset = _price_diff_arraylist[\n",
    "        dataset_idx : dataset_idx + CFG[\"dataset_window\"]\n",
    "    ]\n",
    "\n",
    "    x_dataset, y_dataset = get_x_y(_price_diff_arraylist_dataset, CFG)\n",
    "    y_dataset = y_dataset.sum(axis=1)\n",
    "    x_train, x_test, y_train, y_test = (\n",
    "        x_dataset[:-1],\n",
    "        x_dataset[-1],\n",
    "        y_dataset[:-1],\n",
    "        y_dataset[-1],\n",
    "    )\n",
    "    linear_regression = LinearRegression()\n",
    "    linear_regression.fit(x_train, y_train)\n",
    "    y_pred = linear_regression.predict(x_test.reshape(1, -1))[0]\n",
    "    result_list.append((y_test, y_pred))\n",
    "linear_regression_df = pd.DataFrame(result_list)"
   ]
  },
  {
   "cell_type": "code",
   "execution_count": null,
   "metadata": {},
   "outputs": [],
   "source": []
  }
 ],
 "metadata": {
  "kernelspec": {
   "display_name": "general",
   "language": "python",
   "name": "python3"
  },
  "language_info": {
   "codemirror_mode": {
    "name": "ipython",
    "version": 3
   },
   "file_extension": ".py",
   "mimetype": "text/x-python",
   "name": "python",
   "nbconvert_exporter": "python",
   "pygments_lexer": "ipython3",
   "version": "3.10.11"
  },
  "orig_nbformat": 4
 },
 "nbformat": 4,
 "nbformat_minor": 2
}

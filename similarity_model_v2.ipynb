{
 "cells": [
  {
   "cell_type": "code",
   "execution_count": 7,
   "metadata": {},
   "outputs": [],
   "source": [
    "# imports\n",
    "import numpy as np\n",
    "import pandas as pd\n",
    "from tqdm import tqdm"
   ]
  },
  {
   "cell_type": "code",
   "execution_count": 8,
   "metadata": {},
   "outputs": [],
   "source": [
    "# Load\n",
    "datasets = pd.read_csv(\"./data/pps_data/datasets.csv\")"
   ]
  },
  {
   "cell_type": "code",
   "execution_count": 9,
   "metadata": {},
   "outputs": [],
   "source": [
    "# PPS\n",
    "def append_price_diff(dataset):\n",
    "    dataset.loc[:, [\"price_diff\"]] = (dataset[\"open\"] - dataset[\"close\"]) / dataset[\n",
    "        \"open\"\n",
    "    ]\n",
    "    return dataset\n",
    "\n",
    "datasets = append_price_diff(datasets)"
   ]
  },
  {
   "cell_type": "code",
   "execution_count": 10,
   "metadata": {},
   "outputs": [],
   "source": [
    "# Model\n",
    "def get_cosine_similarity(array_1, array_2):\n",
    "    cosine_similarity = np.dot(array_1, array_2) / (np.linalg.norm(array_1) * np.linalg.norm(array_2))\n",
    "    return cosine_similarity"
   ]
  },
  {
   "cell_type": "code",
   "execution_count": 11,
   "metadata": {},
   "outputs": [],
   "source": [
    "tickers = sorted(set(datasets[\"ticker\"]))\n",
    "ticker = tickers[0]\n",
    "\n",
    "dataset = datasets[datasets[\"ticker\"] == ticker]"
   ]
  },
  {
   "cell_type": "code",
   "execution_count": 12,
   "metadata": {},
   "outputs": [],
   "source": [
    "_arraylist = dataset[\"price_diff\"].values"
   ]
  },
  {
   "cell_type": "code",
   "execution_count": 13,
   "metadata": {},
   "outputs": [],
   "source": [
    "input_window = 15\n",
    "output_window = 15"
   ]
  },
  {
   "cell_type": "code",
   "execution_count": 14,
   "metadata": {},
   "outputs": [],
   "source": [
    "x_dataset = list()\n",
    "y_dataset = list()\n",
    "\n",
    "for dataset_idx in range(len(_arraylist) - input_window - output_window + 1):\n",
    "    _x = _arraylist[dataset_idx : dataset_idx + input_window]\n",
    "    _y = _arraylist[dataset_idx + input_window : dataset_idx + input_window + output_window].sum()\n",
    "    x_dataset.append(_x)\n",
    "    y_dataset.append(_y)\n",
    "\n",
    "x_dataset = np.array(x_dataset)\n",
    "y_dataset = np.array(y_dataset)\n",
    "final_x = _arraylist[-input_window:]"
   ]
  },
  {
   "cell_type": "code",
   "execution_count": 15,
   "metadata": {},
   "outputs": [],
   "source": [
    "result_list = list()\n",
    "for idx, _x in enumerate(x_dataset):\n",
    "    cosine_similarity = get_cosine_similarity(_x, final_x)\n",
    "    result_list.append({\"score\": cosine_similarity, \"y\": y_dataset[idx]})"
   ]
  },
  {
   "cell_type": "code",
   "execution_count": 16,
   "metadata": {},
   "outputs": [],
   "source": [
    "result_df = pd.DataFrame(result_list)\n",
    "result_main_df = result_df.nlargest(5, \"score\")\n",
    "pred_y = (\n",
    "    result_main_df[\"score\"].apply(lambda x: np.exp(x)) * result_main_df[\"y\"]\n",
    ").sum()"
   ]
  },
  {
   "cell_type": "code",
   "execution_count": 17,
   "metadata": {},
   "outputs": [
    {
     "name": "stderr",
     "output_type": "stream",
     "text": [
      "  0%|          | 0/1947 [00:00<?, ?it/s]"
     ]
    },
    {
     "name": "stderr",
     "output_type": "stream",
     "text": [
      "100%|██████████| 1947/1947 [00:05<00:00, 333.02it/s]\n"
     ]
    }
   ],
   "source": [
    "ticker_score_dict = dict()\n",
    "input_window = 25\n",
    "output_window = 15\n",
    "\n",
    "for ticker in tqdm(tickers):\n",
    "    dataset = datasets[datasets[\"ticker\"] == ticker]\n",
    "    _arraylist = dataset[\"price_diff\"].values\n",
    "\n",
    "    x_dataset = list()\n",
    "    y_dataset = list()\n",
    "\n",
    "    for dataset_idx in range(len(_arraylist) - input_window - output_window + 1):\n",
    "        _x = _arraylist[dataset_idx : dataset_idx + input_window]\n",
    "        _y = _arraylist[\n",
    "            dataset_idx + input_window : dataset_idx + input_window + output_window\n",
    "        ].sum()\n",
    "        x_dataset.append(_x)\n",
    "        y_dataset.append(_y)\n",
    "\n",
    "    x_dataset = np.array(x_dataset)\n",
    "    y_dataset = np.array(y_dataset)\n",
    "    final_x = _arraylist[-input_window:]\n",
    "\n",
    "    result_list = list()\n",
    "    for idx, _x in enumerate(x_dataset):\n",
    "        cosine_similarity = get_cosine_similarity(_x, final_x)\n",
    "        result_list.append({\"score\": cosine_similarity, \"y\": y_dataset[idx]})\n",
    "\n",
    "    result_df = pd.DataFrame(result_list)\n",
    "    result_main_df = result_df.nlargest(5, \"score\")\n",
    "    pred_y = (\n",
    "        result_main_df[\"score\"].apply(lambda x: np.exp(x)) * result_main_df[\"y\"]\n",
    "    ).sum()\n",
    "\n",
    "    ticker_score_dict[ticker] = pred_y"
   ]
  },
  {
   "cell_type": "code",
   "execution_count": 18,
   "metadata": {},
   "outputs": [],
   "source": [
    "sample_submission = pd.read_csv(\"./data/raw_data/sample_submission.csv\")"
   ]
  },
  {
   "cell_type": "code",
   "execution_count": 19,
   "metadata": {},
   "outputs": [],
   "source": [
    "def make_submission_df(sample_submission, ticker_score_dict):\n",
    "    sample_submission[\"score\"] = sample_submission[\"종목코드\"].map(ticker_score_dict)\n",
    "    sample_submission[\"score\"] = sample_submission[\"score\"].fillna(0)\n",
    "    sample_submission[\"순위\"] = (\n",
    "        sample_submission[\"score\"].rank(method=\"first\", ascending=False).astype(int)\n",
    "    )\n",
    "    submission_result = sample_submission.loc[:, [\"종목코드\", \"순위\"]]\n",
    "    return submission_result\n",
    "\n",
    "\n",
    "submission_result = make_submission_df(sample_submission, ticker_score_dict)"
   ]
  },
  {
   "cell_type": "code",
   "execution_count": 21,
   "metadata": {},
   "outputs": [],
   "source": [
    "submission_result.to_csv(\"./data/result/similarity_all_25_15.csv\")"
   ]
  },
  {
   "cell_type": "code",
   "execution_count": null,
   "metadata": {},
   "outputs": [],
   "source": []
  }
 ],
 "metadata": {
  "kernelspec": {
   "display_name": "general",
   "language": "python",
   "name": "python3"
  },
  "language_info": {
   "codemirror_mode": {
    "name": "ipython",
    "version": 3
   },
   "file_extension": ".py",
   "mimetype": "text/x-python",
   "name": "python",
   "nbconvert_exporter": "python",
   "pygments_lexer": "ipython3",
   "version": "3.10.11"
  },
  "orig_nbformat": 4
 },
 "nbformat": 4,
 "nbformat_minor": 2
}

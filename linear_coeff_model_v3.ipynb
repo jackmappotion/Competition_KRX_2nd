{
 "cells": [
  {
   "cell_type": "code",
   "execution_count": 1,
   "metadata": {},
   "outputs": [],
   "source": [
    "# coeff_coeff & coeff_mean"
   ]
  },
  {
   "cell_type": "code",
   "execution_count": 2,
   "metadata": {},
   "outputs": [],
   "source": [
    "# Load\n",
    "import pandas as pd\n",
    "\n",
    "datasets = pd.read_csv(\"./data/pps_data/datasets.csv\")"
   ]
  },
  {
   "cell_type": "code",
   "execution_count": 3,
   "metadata": {},
   "outputs": [],
   "source": [
    "# PPS\n",
    "def append_price_diff(dataset):\n",
    "    dataset.loc[:, [\"price_diff\"]] = (dataset[\"open\"] - dataset[\"close\"]) / dataset[\n",
    "        \"open\"\n",
    "    ]\n",
    "    return dataset\n",
    "\n",
    "\n",
    "datasets = append_price_diff(datasets)"
   ]
  },
  {
   "cell_type": "code",
   "execution_count": 4,
   "metadata": {},
   "outputs": [],
   "source": [
    "# model\n",
    "import numpy as np\n",
    "from sklearn.linear_model import LinearRegression\n",
    "\n",
    "\n",
    "def get_linear_coef(arraylist):\n",
    "    lr = LinearRegression()\n",
    "\n",
    "    x = np.arange(len(arraylist)).reshape(-1, 1)\n",
    "    y = arraylist\n",
    "\n",
    "    lr.fit(x, y)\n",
    "\n",
    "    linear_coef = lr.coef_\n",
    "    return linear_coef[0]"
   ]
  },
  {
   "cell_type": "code",
   "execution_count": 5,
   "metadata": {},
   "outputs": [],
   "source": [
    "tickers = sorted(set(datasets[\"ticker\"]))"
   ]
  },
  {
   "cell_type": "code",
   "execution_count": 6,
   "metadata": {},
   "outputs": [],
   "source": [
    "from tqdm import tqdm"
   ]
  },
  {
   "cell_type": "code",
   "execution_count": 7,
   "metadata": {},
   "outputs": [
    {
     "name": "stderr",
     "output_type": "stream",
     "text": [
      "100%|██████████| 1947/1947 [01:08<00:00, 28.49it/s]\n"
     ]
    }
   ],
   "source": [
    "ticker_coef_coef_dict = dict()\n",
    "ticker_coef_mean_dict = dict()\n",
    "for ticker in tqdm(tickers):\n",
    "    dataset = datasets[datasets[\"ticker\"] == ticker]\n",
    "\n",
    "    coef_list = list()\n",
    "    recent_n_list = [300, 200, 100, 50, 25, 10]\n",
    "    for recent_n in recent_n_list:\n",
    "        price_diff_cumsum_arraylist = dataset[\"price_diff\"][-recent_n:].cumsum().values\n",
    "        _coef = get_linear_coef(price_diff_cumsum_arraylist)\n",
    "        coef_list.append(_coef)\n",
    "\n",
    "    _coef_coef = get_linear_coef(coef_list)\n",
    "    _coef_mean = np.average(coef_list, weights=range(1, len(recent_n_list) + 1))\n",
    "\n",
    "    ticker_coef_coef_dict[ticker] = _coef_coef\n",
    "    ticker_coef_mean_dict[ticker] = _coef_mean"
   ]
  },
  {
   "cell_type": "code",
   "execution_count": 8,
   "metadata": {},
   "outputs": [],
   "source": [
    "sample_submission = pd.read_csv(\"./data/raw_data/sample_submission.csv\")"
   ]
  },
  {
   "cell_type": "code",
   "execution_count": 13,
   "metadata": {},
   "outputs": [],
   "source": [
    "sample_submission[\"score_coef_coef\"] = sample_submission[\"종목코드\"].map(ticker_coef_coef_dict)\n",
    "sample_submission[\"score_coef_coef\"] = sample_submission[\"score_coef_coef\"].fillna(0)\n",
    "\n",
    "sample_submission[\"score_coef_mean\"] = sample_submission[\"종목코드\"].map(ticker_coef_mean_dict)\n",
    "sample_submission[\"score_coef_mean\"] = sample_submission[\"score_coef_mean\"].fillna(0)\n",
    "\n",
    "sample_submission[\"score\"] = (\n",
    "    sample_submission[\"score_coef_coef\"] + sample_submission[\"score_coef_mean\"]\n",
    ")"
   ]
  },
  {
   "cell_type": "code",
   "execution_count": 14,
   "metadata": {},
   "outputs": [],
   "source": [
    "sample_submission[\"순위\"] = (\n",
    "    sample_submission[\"score\"].rank(method=\"first\", ascending=False).astype(int)\n",
    ")\n",
    "submission_result = sample_submission.loc[:, [\"종목코드\", \"순위\"]]"
   ]
  },
  {
   "cell_type": "code",
   "execution_count": 15,
   "metadata": {},
   "outputs": [],
   "source": [
    "submission_result.to_csv(\"./data/result/linear_coeff_coeff_coef_mean_model.csv\")"
   ]
  }
 ],
 "metadata": {
  "kernelspec": {
   "display_name": "general",
   "language": "python",
   "name": "python3"
  },
  "language_info": {
   "codemirror_mode": {
    "name": "ipython",
    "version": 3
   },
   "file_extension": ".py",
   "mimetype": "text/x-python",
   "name": "python",
   "nbconvert_exporter": "python",
   "pygments_lexer": "ipython3",
   "version": "3.10.11"
  },
  "orig_nbformat": 4
 },
 "nbformat": 4,
 "nbformat_minor": 2
}
